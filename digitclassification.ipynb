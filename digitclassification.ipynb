{
  "nbformat": 4,
  "nbformat_minor": 0,
  "metadata": {
    "colab": {
      "name": "digitclassification.ipynb",
      "version": "0.3.2",
      "provenance": [],
      "collapsed_sections": [],
      "include_colab_link": true
    },
    "kernelspec": {
      "name": "python3",
      "display_name": "Python 3"
    }
  },
  "cells": [
    {
      "cell_type": "markdown",
      "metadata": {
        "id": "view-in-github",
        "colab_type": "text"
      },
      "source": [
        "<a href=\"https://colab.research.google.com/github/ARJUN78/Handwritten-digit-classification/blob/master/digitclassification.ipynb\" target=\"_parent\"><img src=\"https://colab.research.google.com/assets/colab-badge.svg\" alt=\"Open In Colab\"/></a>"
      ]
    },
    {
      "metadata": {
        "id": "XXlf3Lly2cHV",
        "colab_type": "text"
      },
      "cell_type": "markdown",
      "source": [
        "# **Handwritten Digit Classification**\n",
        "**Arjun R**\n",
        "\n",
        "\n",
        "**Roll No 10**\n",
        "\n",
        "**S8 CS1**"
      ]
    },
    {
      "metadata": {
        "id": "4SPpNMrFZLEY",
        "colab_type": "code",
        "outputId": "e1eaf399-f40b-43b3-a475-6d52380c08b1",
        "colab": {
          "base_uri": "https://localhost:8080/",
          "height": 122
        },
        "cellView": "code"
      },
      "cell_type": "code",
      "source": [
        "#@title Mounting with google drive\n",
        "from google.colab import drive\n",
        "drive.mount('/content/drive')"
      ],
      "execution_count": 1,
      "outputs": [
        {
          "output_type": "stream",
          "text": [
            "Go to this URL in a browser: https://accounts.google.com/o/oauth2/auth?client_id=947318989803-6bn6qk8qdgf4n4g3pfee6491hc0brc4i.apps.googleusercontent.com&redirect_uri=urn%3Aietf%3Awg%3Aoauth%3A2.0%3Aoob&scope=email%20https%3A%2F%2Fwww.googleapis.com%2Fauth%2Fdocs.test%20https%3A%2F%2Fwww.googleapis.com%2Fauth%2Fdrive%20https%3A%2F%2Fwww.googleapis.com%2Fauth%2Fdrive.photos.readonly%20https%3A%2F%2Fwww.googleapis.com%2Fauth%2Fpeopleapi.readonly&response_type=code\n",
            "\n",
            "Enter your authorization code:\n",
            "··········\n",
            "Mounted at /content/drive\n"
          ],
          "name": "stdout"
        }
      ]
    },
    {
      "metadata": {
        "id": "fJC-yRs_ZxKJ",
        "colab_type": "code",
        "outputId": "0776d11f-c6c2-4b94-bee5-c7f170c78bfb",
        "colab": {
          "base_uri": "https://localhost:8080/",
          "height": 34
        }
      },
      "cell_type": "code",
      "source": [
        "!pwd"
      ],
      "execution_count": 2,
      "outputs": [
        {
          "output_type": "stream",
          "text": [
            "/content\n"
          ],
          "name": "stdout"
        }
      ]
    },
    {
      "metadata": {
        "id": "VkkQg08YZlL0",
        "colab_type": "code",
        "colab": {}
      },
      "cell_type": "code",
      "source": [
        "\n",
        "import os\n",
        "os.chdir('drive/My Drive')\n"
      ],
      "execution_count": 0,
      "outputs": []
    },
    {
      "metadata": {
        "id": "SoVRWx2saL_6",
        "colab_type": "code",
        "colab": {}
      },
      "cell_type": "code",
      "source": [
        "# Importing the necessary libraries\n",
        "import numpy as np \n",
        "import matplotlib.pyplot as plt\n",
        "\n",
        "# Used for Confusion Matrix\n",
        "from sklearn import metrics\n",
        "import seaborn as sns\n",
        "\n",
        "# Used for Loading MNIST\n",
        "from struct import unpack\n",
        "\n",
        "# Needed for logistic regression\n",
        "from sklearn.linear_model import LogisticRegression \n",
        "\n",
        "import random\n",
        "import tensorflow as tf\n",
        "from tensorflow import keras"
      ],
      "execution_count": 0,
      "outputs": []
    },
    {
      "metadata": {
        "id": "-zmKL_1d5idg",
        "colab_type": "text"
      },
      "cell_type": "markdown",
      "source": [
        "##**Loding the data (MNIST)**"
      ]
    },
    {
      "metadata": {
        "id": "MHhh1EnKaO4U",
        "colab_type": "code",
        "colab": {},
        "cellView": "code"
      },
      "cell_type": "code",
      "source": [
        "#@title Default title text\n",
        "def loadmnist(imagefile, labelfile):\n",
        "\n",
        "    # Open the images with gzip in read binary mode\n",
        "    images = open(imagefile, 'rb')\n",
        "    labels = open(labelfile, 'rb')\n",
        "\n",
        "    # Get metadata for images\n",
        "    images.read(4)  # skip the magic_number\n",
        "    number_of_images = images.read(4)\n",
        "    number_of_images = unpack('>I', number_of_images)[0]\n",
        "    rows = images.read(4)\n",
        "    rows = unpack('>I', rows)[0]\n",
        "    cols = images.read(4)\n",
        "    cols = unpack('>I', cols)[0]\n",
        "\n",
        "    # Get metadata for labels\n",
        "    labels.read(4)\n",
        "    N = labels.read(4)\n",
        "    N = unpack('>I', N)[0]\n",
        "\n",
        "    # Get data\n",
        "    x = np.zeros((N, rows*cols), dtype=np.uint8)  # Initialize numpy array\n",
        "    y = np.zeros(N, dtype=np.uint8)  # Initialize numpy array\n",
        "    for i in range(N):\n",
        "        for j in range(rows*cols):\n",
        "            tmp_pixel = images.read(1)  # Just a single byte\n",
        "            tmp_pixel = unpack('>B', tmp_pixel)[0]\n",
        "            x[i][j] = tmp_pixel\n",
        "        tmp_label = labels.read(1)\n",
        "        y[i] = unpack('>B', tmp_label)[0]\n",
        "\n",
        "    images.close()\n",
        "    labels.close()\n",
        "    return (x, y)"
      ],
      "execution_count": 0,
      "outputs": []
    },
    {
      "metadata": {
        "id": "BFgqKq3baQRL",
        "colab_type": "code",
        "colab": {}
      },
      "cell_type": "code",
      "source": [
        "# Loading training images and training labels\n",
        "train_img, train_lbl = loadmnist('data/train-images-idx3-ubyte'\n",
        "                                 , 'data/train-labels-idx1-ubyte')\n",
        "\n",
        "# Loading test images and test labels\n",
        "test_img, test_lbl = loadmnist('data/t10k-images-idx3-ubyte'\n",
        "                               , 'data/t10k-labels-idx1-ubyte')"
      ],
      "execution_count": 0,
      "outputs": []
    },
    {
      "metadata": {
        "id": "gFZqaffz5voy",
        "colab_type": "text"
      },
      "cell_type": "markdown",
      "source": [
        "##Normalizing data"
      ]
    },
    {
      "metadata": {
        "id": "rgtuGqBt0dp_",
        "colab_type": "code",
        "colab": {}
      },
      "cell_type": "code",
      "source": [
        "train_img = train_img / 255.0\n",
        "\n",
        "test_img = test_img / 255.0"
      ],
      "execution_count": 0,
      "outputs": []
    },
    {
      "metadata": {
        "id": "knUlQe3bafo8",
        "colab_type": "code",
        "outputId": "6768c144-1d96-4c2a-d717-b1c9a602fa6d",
        "colab": {
          "base_uri": "https://localhost:8080/",
          "height": 34
        }
      },
      "cell_type": "code",
      "source": [
        "# Shape of training image set\n",
        "print(train_img.shape)"
      ],
      "execution_count": 20,
      "outputs": [
        {
          "output_type": "stream",
          "text": [
            "(60000, 784)\n"
          ],
          "name": "stdout"
        }
      ]
    },
    {
      "metadata": {
        "id": "Jt5PIj3OaiKT",
        "colab_type": "code",
        "outputId": "64f02e13-7e81-42d6-fd0c-66e0bb102745",
        "colab": {
          "base_uri": "https://localhost:8080/",
          "height": 34
        }
      },
      "cell_type": "code",
      "source": [
        "# Shape of training label set\n",
        "print(train_lbl.shape)"
      ],
      "execution_count": 21,
      "outputs": [
        {
          "output_type": "stream",
          "text": [
            "(60000,)\n"
          ],
          "name": "stdout"
        }
      ]
    },
    {
      "metadata": {
        "id": "IvJK7hidakt6",
        "colab_type": "code",
        "outputId": "0e647dbb-b0ad-433a-fdff-1fca9762772e",
        "colab": {
          "base_uri": "https://localhost:8080/",
          "height": 34
        }
      },
      "cell_type": "code",
      "source": [
        "# Shape of test image set\n",
        "print(test_img.shape)"
      ],
      "execution_count": 22,
      "outputs": [
        {
          "output_type": "stream",
          "text": [
            "(10000, 784)\n"
          ],
          "name": "stdout"
        }
      ]
    },
    {
      "metadata": {
        "id": "5VILvXgkamfi",
        "colab_type": "code",
        "outputId": "2c35b8aa-ffe1-4bae-c4db-c79b7a685969",
        "colab": {
          "base_uri": "https://localhost:8080/",
          "height": 34
        }
      },
      "cell_type": "code",
      "source": [
        "# Shape of test label set\n",
        "print(test_lbl.shape)"
      ],
      "execution_count": 23,
      "outputs": [
        {
          "output_type": "stream",
          "text": [
            "(10000,)\n"
          ],
          "name": "stdout"
        }
      ]
    },
    {
      "metadata": {
        "id": "PwYWKPO253gQ",
        "colab_type": "text"
      },
      "cell_type": "markdown",
      "source": [
        "##Data set sample"
      ]
    },
    {
      "metadata": {
        "id": "jSwrXY-haomJ",
        "colab_type": "code",
        "outputId": "ba8d39fa-db6c-4c7f-bc6e-26e11beeaa15",
        "colab": {
          "base_uri": "https://localhost:8080/",
          "height": 283
        }
      },
      "cell_type": "code",
      "source": [
        "start_range = random.randint(0,59995)\n",
        "end_range = start_range+5\n",
        "plt.figure(figsize=(20,4))\n",
        "for index, (image, label) in enumerate(zip(train_img[start_range:end_range], train_lbl[start_range:end_range])):\n",
        "    plt.subplot(1, 5, index + 1)\n",
        "    plt.imshow(np.reshape(image, (28,28)), cmap=plt.cm.gray)\n",
        "    plt.title('Training: %i\\n' % label, fontsize = 20)"
      ],
      "execution_count": 24,
      "outputs": [
        {
          "output_type": "display_data",
          "data": {
            "image/png": "[encoded data removed]",
            "text/plain": [
              "<Figure size 1440x288 with 5 Axes>"
            ]
          },
          "metadata": {
            "tags": []
          }
        }
      ]
    },
    {
      "metadata": {
        "id": "8atfMGirarS5",
        "colab_type": "code",
        "outputId": "249613b8-b9aa-4877-c3e5-fbde2484caf0",
        "colab": {
          "base_uri": "https://localhost:8080/",
          "height": 2312
        }
      },
      "cell_type": "code",
      "source": [
        "k = random.randint(0,60000)\n",
        "print(\"The array of pixel values(size 784) for a sample with label \",train_lbl[k])\n",
        "print()\n",
        "print(train_img[k])\n",
        "print()\n",
        "print(\"Length of the array is \",train_img[k].shape[0])"
      ],
      "execution_count": 25,
      "outputs": [
        {
          "output_type": "stream",
          "text": [
            "The array of pixel values(size 784) for a sample with label  9\n",
            "\n",
            "[0.         0.         0.         0.         0.         0.\n",
            " 0.         0.         0.         0.         0.         0.\n",
            " 0.         0.         0.         0.         0.         0.\n",
            " 0.         0.         0.         0.         0.         0.\n",
            " 0.         0.         0.         0.         0.         0.\n",
            " 0.         0.         0.         0.         0.         0.\n",
            " 0.         0.         0.         0.         0.         0.\n",
            " 0.         0.         0.         0.         0.         0.\n",
            " 0.         0.         0.         0.         0.         0.\n",
            " 0.         0.         0.         0.         0.         0.\n",
            " 0.         0.         0.         0.         0.         0.\n",
            " 0.         0.         0.         0.         0.         0.\n",
            " 0.         0.         0.         0.         0.         0.\n",
            " 0.         0.         0.         0.         0.         0.\n",
            " 0.         0.         0.         0.         0.         0.\n",
            " 0.         0.         0.         0.         0.         0.\n",
            " 0.         0.         0.         0.         0.         0.\n",
            " 0.         0.         0.         0.         0.         0.\n",
            " 0.         0.         0.         0.         0.         0.\n",
            " 0.         0.         0.         0.         0.         0.\n",
            " 0.         0.         0.         0.         0.         0.\n",
            " 0.         0.         0.         0.         0.         0.\n",
            " 0.         0.         0.         0.         0.         0.\n",
            " 0.         0.         0.         0.         0.         0.\n",
            " 0.         0.         0.         0.         0.         0.\n",
            " 0.         0.         0.         0.         0.         0.\n",
            " 0.         0.         0.         0.         0.         0.\n",
            " 0.         0.         0.         0.         0.         0.\n",
            " 0.         0.         0.         0.         0.         0.\n",
            " 0.         0.         0.         0.         0.         0.\n",
            " 0.         0.         0.         0.         0.         0.\n",
            " 0.         0.         0.         0.         0.         0.\n",
            " 0.         0.         0.         0.         0.         0.\n",
            " 0.         0.         0.         0.         0.         0.\n",
            " 0.         0.         0.         0.         0.1254902  0.66666667\n",
            " 1.         0.99607843 0.84313725 0.62352941 0.28627451 0.04705882\n",
            " 0.         0.         0.         0.         0.         0.\n",
            " 0.         0.         0.         0.         0.         0.\n",
            " 0.         0.         0.         0.         0.         0.\n",
            " 0.         0.30980392 0.88235294 0.9372549  0.84705882 0.78823529\n",
            " 0.49019608 0.84313725 0.98039216 0.56470588 0.         0.\n",
            " 0.         0.         0.         0.         0.         0.\n",
            " 0.         0.         0.         0.         0.         0.\n",
            " 0.         0.         0.         0.         0.1372549  0.89019608\n",
            " 0.97254902 0.46666667 0.         0.         0.         0.\n",
            " 0.90588235 0.48235294 0.         0.         0.         0.\n",
            " 0.         0.         0.         0.         0.         0.\n",
            " 0.         0.         0.         0.         0.         0.\n",
            " 0.         0.         0.57647059 0.99215686 0.26666667 0.\n",
            " 0.         0.         0.01176471 0.54117647 0.72156863 0.0627451\n",
            " 0.         0.         0.         0.         0.         0.\n",
            " 0.         0.         0.         0.         0.         0.\n",
            " 0.         0.         0.         0.         0.         0.1372549\n",
            " 0.96862745 0.58039216 0.01176471 0.         0.         0.02745098\n",
            " 0.35294118 0.99215686 0.67058824 0.         0.         0.\n",
            " 0.         0.         0.         0.         0.         0.\n",
            " 0.         0.         0.         0.         0.         0.\n",
            " 0.         0.         0.         0.47058824 0.99215686 0.40392157\n",
            " 0.         0.         0.01960784 0.34901961 0.99215686 0.99215686\n",
            " 0.48235294 0.         0.         0.         0.         0.\n",
            " 0.         0.         0.         0.         0.         0.\n",
            " 0.         0.         0.         0.         0.         0.\n",
            " 0.         0.54901961 0.99215686 0.73333333 0.33333333 0.47058824\n",
            " 0.77647059 0.99215686 0.99215686 0.99215686 0.07058824 0.\n",
            " 0.         0.         0.         0.         0.         0.\n",
            " 0.         0.         0.         0.         0.         0.\n",
            " 0.         0.         0.         0.         0.         0.04313725\n",
            " 0.81568627 0.99215686 0.99215686 0.99215686 0.77254902 0.96862745\n",
            " 0.98431373 0.41568627 0.00392157 0.         0.         0.\n",
            " 0.         0.         0.         0.         0.         0.\n",
            " 0.         0.         0.         0.         0.         0.\n",
            " 0.         0.         0.         0.         0.10196078 0.50196078\n",
            " 0.3372549  0.14509804 0.2627451  0.97647059 0.91372549 0.\n",
            " 0.         0.         0.         0.         0.         0.\n",
            " 0.         0.         0.         0.         0.         0.\n",
            " 0.         0.         0.         0.         0.         0.\n",
            " 0.         0.         0.         0.         0.         0.\n",
            " 0.76078431 0.99215686 0.45098039 0.         0.         0.\n",
            " 0.         0.         0.         0.         0.         0.\n",
            " 0.         0.         0.         0.         0.         0.\n",
            " 0.         0.         0.         0.         0.         0.\n",
            " 0.         0.         0.         0.23529412 1.         0.61176471\n",
            " 0.         0.         0.         0.         0.         0.\n",
            " 0.         0.         0.         0.         0.         0.\n",
            " 0.         0.         0.         0.         0.         0.\n",
            " 0.         0.         0.         0.         0.         0.\n",
            " 0.         0.56078431 0.99607843 0.42352941 0.         0.\n",
            " 0.         0.         0.         0.         0.         0.\n",
            " 0.         0.         0.         0.         0.         0.\n",
            " 0.         0.         0.         0.         0.         0.\n",
            " 0.         0.         0.         0.         0.23921569 0.93333333\n",
            " 0.79215686 0.02352941 0.         0.         0.         0.\n",
            " 0.         0.         0.         0.         0.         0.\n",
            " 0.         0.         0.         0.         0.         0.\n",
            " 0.         0.         0.         0.         0.         0.\n",
            " 0.         0.         0.58823529 0.99215686 0.62745098 0.\n",
            " 0.         0.         0.         0.         0.         0.\n",
            " 0.         0.         0.         0.         0.         0.\n",
            " 0.         0.         0.         0.         0.         0.\n",
            " 0.         0.         0.         0.         0.         0.41176471\n",
            " 0.98039216 0.64705882 0.02745098 0.         0.         0.\n",
            " 0.         0.         0.         0.         0.         0.\n",
            " 0.         0.         0.         0.         0.         0.\n",
            " 0.         0.         0.         0.         0.         0.\n",
            " 0.         0.         0.02745098 0.75686275 0.77647059 0.21176471\n",
            " 0.         0.         0.         0.         0.         0.\n",
            " 0.         0.         0.         0.         0.         0.\n",
            " 0.         0.         0.         0.         0.         0.\n",
            " 0.         0.         0.         0.         0.         0.\n",
            " 0.59215686 0.91764706 0.20784314 0.         0.         0.\n",
            " 0.         0.         0.         0.         0.         0.\n",
            " 0.         0.         0.         0.         0.         0.\n",
            " 0.         0.         0.         0.         0.         0.\n",
            " 0.         0.         0.         0.12941176 0.87058824 0.33333333\n",
            " 0.         0.         0.         0.         0.         0.\n",
            " 0.         0.         0.         0.         0.         0.\n",
            " 0.         0.         0.         0.         0.         0.\n",
            " 0.         0.         0.         0.         0.         0.\n",
            " 0.02352941 0.76862745 0.36078431 0.00784314 0.         0.\n",
            " 0.         0.         0.         0.         0.         0.\n",
            " 0.         0.         0.         0.         0.         0.\n",
            " 0.         0.         0.         0.         0.         0.\n",
            " 0.         0.         0.         0.         0.59215686 0.50588235\n",
            " 0.         0.         0.         0.         0.         0.\n",
            " 0.         0.         0.         0.         0.         0.\n",
            " 0.         0.         0.         0.         0.         0.\n",
            " 0.         0.         0.         0.         0.         0.\n",
            " 0.         0.         0.         0.         0.         0.\n",
            " 0.         0.         0.         0.         0.         0.\n",
            " 0.         0.         0.         0.         0.         0.\n",
            " 0.         0.         0.         0.        ]\n",
            "\n",
            "Length of the array is  784\n"
          ],
          "name": "stdout"
        }
      ]
    },
    {
      "metadata": {
        "id": "_5E70FFP6BZb",
        "colab_type": "text"
      },
      "cell_type": "markdown",
      "source": [
        "##Defining the network architecture"
      ]
    },
    {
      "metadata": {
        "id": "AWCoQ9jQcuTO",
        "colab_type": "code",
        "colab": {}
      },
      "cell_type": "code",
      "source": [
        "model = keras.Sequential([\n",
        "    keras.layers.Dense(128, activation=tf.nn.relu,input_shape=(784,)),\n",
        "    keras.layers.Dense(64, activation=tf.nn.relu),\n",
        "    keras.layers.Dense(10, activation=tf.nn.softmax)\n",
        "])"
      ],
      "execution_count": 0,
      "outputs": []
    },
    {
      "metadata": {
        "id": "sCFdf_AMz0h6",
        "colab_type": "code",
        "colab": {
          "base_uri": "https://localhost:8080/",
          "height": 238
        },
        "outputId": "5387264d-c5d2-4b5d-9b3f-e9bf96de8362"
      },
      "cell_type": "code",
      "source": [
        "model.summary()"
      ],
      "execution_count": 16,
      "outputs": [
        {
          "output_type": "stream",
          "text": [
            "_________________________________________________________________\n",
            "Layer (type)                 Output Shape              Param #   \n",
            "=================================================================\n",
            "dense (Dense)                (None, 128)               100480    \n",
            "_________________________________________________________________\n",
            "dense_1 (Dense)              (None, 64)                8256      \n",
            "_________________________________________________________________\n",
            "dense_2 (Dense)              (None, 10)                650       \n",
            "=================================================================\n",
            "Total params: 109,386\n",
            "Trainable params: 109,386\n",
            "Non-trainable params: 0\n",
            "_________________________________________________________________\n"
          ],
          "name": "stdout"
        }
      ]
    },
    {
      "metadata": {
        "id": "jK9_MlZmdAUX",
        "colab_type": "code",
        "colab": {}
      },
      "cell_type": "code",
      "source": [
        "model.compile(optimizer='adam', \n",
        "              loss='sparse_categorical_crossentropy',\n",
        "              metrics=['accuracy'])"
      ],
      "execution_count": 0,
      "outputs": []
    },
    {
      "metadata": {
        "id": "qhKORgXr6H0W",
        "colab_type": "text"
      },
      "cell_type": "markdown",
      "source": [
        "##Fitting the model"
      ]
    },
    {
      "metadata": {
        "id": "nPuG5IzDdjsV",
        "colab_type": "code",
        "outputId": "d501d811-95d3-430b-c7b5-8eeb24078628",
        "colab": {
          "base_uri": "https://localhost:8080/",
          "height": 272
        }
      },
      "cell_type": "code",
      "source": [
        "model.fit(train_img, train_lbl, epochs=7)"
      ],
      "execution_count": 28,
      "outputs": [
        {
          "output_type": "stream",
          "text": [
            "Epoch 1/7\n",
            "60000/60000 [==============================] - 8s 139us/sample - loss: 0.2443 - acc: 0.9269\n",
            "Epoch 2/7\n",
            "60000/60000 [==============================] - 8s 140us/sample - loss: 0.1040 - acc: 0.9684\n",
            "Epoch 3/7\n",
            "60000/60000 [==============================] - 8s 134us/sample - loss: 0.0726 - acc: 0.9777\n",
            "Epoch 4/7\n",
            "60000/60000 [==============================] - 9s 146us/sample - loss: 0.0556 - acc: 0.9825\n",
            "Epoch 5/7\n",
            "60000/60000 [==============================] - 9s 147us/sample - loss: 0.0442 - acc: 0.9853\n",
            "Epoch 6/7\n",
            "60000/60000 [==============================] - 8s 135us/sample - loss: 0.0333 - acc: 0.9886\n",
            "Epoch 7/7\n",
            "60000/60000 [==============================] - 9s 152us/sample - loss: 0.0293 - acc: 0.9904\n"
          ],
          "name": "stdout"
        },
        {
          "output_type": "execute_result",
          "data": {
            "text/plain": [
              "<tensorflow.python.keras.callbacks.History at 0x7fad967d8ba8>"
            ]
          },
          "metadata": {
            "tags": []
          },
          "execution_count": 28
        }
      ]
    },
    {
      "metadata": {
        "id": "cS2Jc9KMbhpg",
        "colab_type": "code",
        "colab": {}
      },
      "cell_type": "code",
      "source": [
        "correct_indeces = []\n",
        "wrong_indeces = []\n",
        "predictions = []\n",
        "prediction = model.predict_classes(test_img)\n",
        "for i in range(10000):\n",
        "    pred = prediction[i] \n",
        "    if test_lbl[i] == pred: \n",
        "        correct_indeces.append(i)\n",
        "        predictions.append(pred)\n",
        "    else:\n",
        "        wrong_indeces.append(i)\n",
        "        predictions.append(pred)\n"
      ],
      "execution_count": 0,
      "outputs": []
    },
    {
      "metadata": {
        "id": "QBVp3kzS6Vb6",
        "colab_type": "text"
      },
      "cell_type": "markdown",
      "source": [
        "##Correct  predictions"
      ]
    },
    {
      "metadata": {
        "id": "_I0_S-ribn1J",
        "colab_type": "code",
        "outputId": "722a9a20-79ac-4abf-8a27-cc4ec88fe599",
        "colab": {
          "base_uri": "https://localhost:8080/",
          "height": 305
        }
      },
      "cell_type": "code",
      "source": [
        "start_range = random.randint(0,len(correct_indeces)-5)\n",
        "end_range = start_range+5\n",
        "plt.figure(figsize=(20,4))\n",
        "i = 0\n",
        "for index in range(start_range, end_range):\n",
        "    plt.subplot(1, 5, i+1)\n",
        "    plt.imshow(np.reshape(test_img[correct_indeces[index]], (28,28)), cmap=plt.cm.gray)\n",
        "    plt.title('Actual Value:%i \\n Predicted Value: %i \\n' % (test_lbl[correct_indeces[index]], \n",
        "                                                             predictions[correct_indeces[index]]), fontsize = 20)\n",
        "    i+=1"
      ],
      "execution_count": 32,
      "outputs": [
        {
          "output_type": "display_data",
          "data": {
            "image/png": "[encoded data removed]",
            "text/plain": [
              "<Figure size 1440x288 with 5 Axes>"
            ]
          },
          "metadata": {
            "tags": []
          }
        }
      ]
    },
    {
      "metadata": {
        "id": "cWJq2UcE6ZqV",
        "colab_type": "text"
      },
      "cell_type": "markdown",
      "source": [
        "##Wrong predictions"
      ]
    },
    {
      "metadata": {
        "id": "0dzGJlO1bvf4",
        "colab_type": "code",
        "outputId": "2cb671d4-778d-4aac-971b-42d5d112eac1",
        "colab": {
          "base_uri": "https://localhost:8080/",
          "height": 305
        }
      },
      "cell_type": "code",
      "source": [
        "start_range = random.randint(0,len(wrong_indeces)-5)\n",
        "end_range = start_range+5\n",
        "plt.figure(figsize=(20,4))\n",
        "#for index, (image, label) in enumerate(zip(test_img[start_range:end_range], test_lbl[start_range:end_range])):\n",
        "#    plt.subplot(1, 5, index + 1)\n",
        "#    plt.imshow(np.reshape(image, (28,28)), cmap=plt.cm.gray)\n",
        "#    plt.title('Actual Value: %i\\n Predicted Value: %i \\n' % (label, predictions[index]), fontsize = 20)\n",
        "i = 0\n",
        "for index in range(start_range, end_range):\n",
        "    plt.subplot(1, 5, i+1)\n",
        "    plt.imshow(np.reshape(test_img[wrong_indeces[index]], (28,28)), cmap=plt.cm.gray)\n",
        "    plt.title('Actual Value:%i \\n Predicted Value: %i \\n' % (test_lbl[wrong_indeces[index]], \n",
        "                                                             predictions[wrong_indeces[index]]), fontsize = 20)\n",
        "    i+=1"
      ],
      "execution_count": 33,
      "outputs": [
        {
          "output_type": "display_data",
          "data": {
            "image/png": "[encoded data removed]",
            "text/plain": [
              "<Figure size 1440x288 with 5 Axes>"
            ]
          },
          "metadata": {
            "tags": []
          }
        }
      ]
    },
    {
      "metadata": {
        "id": "p7Js7H8K6e2S",
        "colab_type": "text"
      },
      "cell_type": "markdown",
      "source": [
        "##Accuracy"
      ]
    },
    {
      "metadata": {
        "id": "c6WRyvQSbyaw",
        "colab_type": "code",
        "outputId": "8cc0ee1f-5795-42e1-933c-75d3328c5a1e",
        "colab": {
          "base_uri": "https://localhost:8080/",
          "height": 51
        }
      },
      "cell_type": "code",
      "source": [
        "loss, accuracy = model.evaluate(test_img,test_lbl)\n",
        "print(\"Accuracy = \",accuracy)"
      ],
      "execution_count": 34,
      "outputs": [
        {
          "output_type": "stream",
          "text": [
            "10000/10000 [==============================] - 1s 52us/sample - loss: 0.0877 - acc: 0.9752\n",
            "Accuracy =  0.9752\n"
          ],
          "name": "stdout"
        }
      ]
    }
  ]
}